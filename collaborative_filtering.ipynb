{
 "cells": [
  {
   "cell_type": "code",
   "execution_count": 1,
   "metadata": {},
   "outputs": [
    {
     "name": "stdout",
     "output_type": "stream",
     "text": [
      "/Users/yw511/VSCode/Machine Learning/kaggle-movie-recommendation/data/movies_keywords.csv\n",
      "/Users/yw511/VSCode/Machine Learning/kaggle-movie-recommendation/data/test.csv\n",
      "/Users/yw511/VSCode/Machine Learning/kaggle-movie-recommendation/data/movies_metadata.csv\n",
      "/Users/yw511/VSCode/Machine Learning/kaggle-movie-recommendation/data/train.csv\n",
      "/Users/yw511/VSCode/Machine Learning/kaggle-movie-recommendation/data/sample_submission.csv\n"
     ]
    }
   ],
   "source": [
    "import numpy as np # linear algebra\n",
    "import pandas as pd # data processing, CSV file I/O (e.g. pd.read_csv)\n",
    "\n",
    "import os\n",
    "for dirname, _, filenames in os.walk('/Users/yw511/VSCode/Machine Learning/kaggle-movie-recommendation/data'):\n",
    "    for filename in filenames:\n",
    "        print(os.path.join(dirname, filename))"
   ]
  },
  {
   "cell_type": "code",
   "execution_count": 2,
   "metadata": {},
   "outputs": [],
   "source": [
    "keywords=pd.read_csv('/Users/yw511/VSCode/Machine Learning/kaggle-movie-recommendation/data/movies_keywords.csv')\n",
    "meta_data=pd.read_csv('/Users/yw511/VSCode/Machine Learning/kaggle-movie-recommendation/data/movies_metadata.csv')\n",
    "train=pd.read_csv('/Users/yw511/VSCode/Machine Learning/kaggle-movie-recommendation/data/train.csv')\n",
    "test=pd.read_csv('/Users/yw511/VSCode/Machine Learning/kaggle-movie-recommendation/data/test.csv')"
   ]
  },
  {
   "cell_type": "code",
   "execution_count": 3,
   "metadata": {},
   "outputs": [],
   "source": [
    "import sklearn"
   ]
  },
  {
   "cell_type": "code",
   "execution_count": 4,
   "metadata": {},
   "outputs": [],
   "source": [
    "train[['userId','id']] = train.userId_movieId.str.split(\"_\", expand=True)\n",
    "\n",
    "train = train.drop(['userId_movieId'], axis=1)\n",
    "\n",
    "train['rating'] = train['rating'].astype(float)\n",
    "train['userId'] = train['userId'].astype(int)\n",
    "train['id'] = train['id'].astype(int)\n",
    "\n",
    "test[['userId','id']] = test.userId_movieId.str.split(\"_\", expand=True)\n",
    "test = test.drop(['userId_movieId'], axis=1)\n",
    "\n",
    "train = train[['userId', 'id', 'rating']]\n",
    "test = test[['userId', 'id']]"
   ]
  },
  {
   "attachments": {},
   "cell_type": "markdown",
   "metadata": {},
   "source": [
    "# User Based"
   ]
  },
  {
   "attachments": {},
   "cell_type": "markdown",
   "metadata": {},
   "source": [
    "# Citation\n",
    "\n",
    "https://towardsdatascience.com/the-4-recommendation-engines-that-can-predict-your-movie-tastes-109dc4e10c52"
   ]
  },
  {
   "cell_type": "code",
   "execution_count": 5,
   "metadata": {},
   "outputs": [],
   "source": [
    "from sklearn.model_selection import train_test_split as cv\n",
    "train_data, test_data = cv(train, test_size=0.3)"
   ]
  },
  {
   "cell_type": "code",
   "execution_count": 6,
   "metadata": {},
   "outputs": [],
   "source": [
    "# Create two user-item matrices for training and testing data\n",
    "train_data_matrix = train_data.to_numpy()\n",
    "test_data_matrix = test_data.to_numpy()"
   ]
  },
  {
   "cell_type": "code",
   "execution_count": 7,
   "metadata": {},
   "outputs": [],
   "source": [
    "from sklearn.metrics.pairwise import pairwise_distances\n",
    "\n",
    "# User Similarity Matrix\n",
    "user_correlation = 1 - pairwise_distances(train_data_matrix, metric='correlation')\n",
    "user_correlation[np.isnan(user_correlation)] = 0\n",
    "# Item Similarity Matrix\n",
    "# item_correlation = 1 - pairwise_distances(train_data_matrix.T, metric='correlation')\n",
    "# item_correlation[np.isnan(item_correlation)] = 0"
   ]
  },
  {
   "cell_type": "code",
   "execution_count": 8,
   "metadata": {},
   "outputs": [],
   "source": [
    "# Function to predict ratings\n",
    "def predict(ratings, similarity, type='user'):\n",
    "    if type == 'user':\n",
    "        mean_user_rating = ratings.mean(axis=1)\n",
    "        # Use np.newaxis so that mean_user_rating has same format as ratings\n",
    "        ratings_diff = (ratings - mean_user_rating[:, np.newaxis])\n",
    "        pred = mean_user_rating[:, np.newaxis] + similarity.dot(ratings_diff) / np.array([np.abs(similarity).sum(axis=1)]).T\n",
    "    elif type == 'item':\n",
    "        pred = ratings.dot(similarity) / np.array([np.abs(similarity).sum(axis=1)])\n",
    "    return pred"
   ]
  },
  {
   "cell_type": "code",
   "execution_count": 9,
   "metadata": {},
   "outputs": [],
   "source": [
    "from sklearn.metrics import mean_squared_error\n",
    "from math import sqrt\n",
    "\n",
    "# Function to calculate RMSE\n",
    "def rmse(pred, actual):\n",
    "    # Ignore nonzero terms.\n",
    "    pred = pred[actual.nonzero()].flatten()\n",
    "    actual = actual[actual.nonzero()].flatten()\n",
    "    return sqrt(mean_squared_error(pred, actual))"
   ]
  },
  {
   "cell_type": "code",
   "execution_count": 10,
   "metadata": {},
   "outputs": [
    {
     "name": "stdout",
     "output_type": "stream",
     "text": [
      "User-based CF RMSE: 12186.168642238565\n"
     ]
    }
   ],
   "source": [
    "# Predict ratings on the training data with both similarity score\n",
    "user_prediction = predict(train_data_matrix, user_correlation, type='user')\n",
    "\n",
    "# RMSE on the train data\n",
    "print('User-based CF RMSE: ' + str(rmse(user_prediction, train_data_matrix)))\n"
   ]
  },
  {
   "cell_type": "code",
   "execution_count": 12,
   "metadata": {},
   "outputs": [
    {
     "data": {
      "text/plain": [
       "array([[-3303.83683253, 10084.13278825, -3624.19595572],\n",
       "       [ 4533.05045934, -8794.9333148 ,  4606.68285546],\n",
       "       [ 4562.43038982, -9209.70862812,  4679.0782383 ],\n",
       "       ...,\n",
       "       [13366.49540496, 26904.65806549, 13050.74652955],\n",
       "       [-3372.23405563,  8921.27527162, -3712.34121599],\n",
       "       [-3865.7054972 ,  8879.41411361, -4199.90861641]])"
      ]
     },
     "execution_count": 12,
     "metadata": {},
     "output_type": "execute_result"
    }
   ],
   "source": [
    "user_prediction"
   ]
  }
 ],
 "metadata": {
  "kernelspec": {
   "display_name": "Python 3",
   "language": "python",
   "name": "python3"
  },
  "language_info": {
   "codemirror_mode": {
    "name": "ipython",
    "version": 3
   },
   "file_extension": ".py",
   "mimetype": "text/x-python",
   "name": "python",
   "nbconvert_exporter": "python",
   "pygments_lexer": "ipython3",
   "version": "3.11.1"
  },
  "orig_nbformat": 4,
  "vscode": {
   "interpreter": {
    "hash": "aee8b7b246df8f9039afb4144a1f6fd8d2ca17a180786b69acc140d282b71a49"
   }
  }
 },
 "nbformat": 4,
 "nbformat_minor": 2
}
